{
 "cells": [
  {
   "cell_type": "markdown",
   "metadata": {},
   "source": [
    "## 練習時間\n",
    "資料的操作有很多，接下來的馬拉松中我們會介紹常被使用到的操作，參加者不妨先自行想像一下，第一次看到資料，我們一般會想知道什麼訊息？\n",
    "\n",
    "#### Ex: 如何知道資料的 row 數以及 column 數、有什麼欄位、多少欄位、如何截取部分的資料等等\n",
    "\n",
    "有了對資料的好奇之後，我們又怎麼通過程式碼來達成我們的目的呢？\n",
    "\n",
    "#### 可參考該[基礎教材](https://bookdata.readthedocs.io/en/latest/base/01_pandas.html#DataFrame-%E5%85%A5%E9%97%A8)或自行 google"
   ]
  },
  {
   "cell_type": "markdown",
   "metadata": {},
   "source": [
    "# [作業目標]\n",
    "- 熟悉更多的 Python 資料操作"
   ]
  },
  {
   "cell_type": "markdown",
   "metadata": {},
   "source": [
    "# [作業重點]\n",
    "- 列出資料的大小 (In[4], Hint : shape)\n",
    "- 列出所有欄位 (In[5], 有多種寫法)\n",
    "- 擷取部分資料 (In[6], Hint : loc 或 iloc)"
   ]
  },
  {
   "cell_type": "code",
   "execution_count": 10,
   "metadata": {},
   "outputs": [],
   "source": [
    "import os\n",
    "import numpy as np\n",
    "import pandas as pd\n",
    "from pandas import Series, DataFrame"
   ]
  },
  {
   "cell_type": "code",
   "execution_count": 11,
   "metadata": {},
   "outputs": [
    {
     "name": "stdout",
     "output_type": "stream",
     "text": [
      "Path of read in data: ../ref_document/D4/data/application_train.csv\n"
     ]
    }
   ],
   "source": [
    "# 設定 data_path\n",
    "#dir_data = './data/'\n",
    "dir_data = '../ref_document/D4/data/'\n",
    "\n",
    "f_app = os.path.join(dir_data, 'application_train.csv')\n",
    "print('Path of read in data: %s' % (f_app))\n",
    "app_train = pd.read_csv(f_app)"
   ]
  },
  {
   "cell_type": "markdown",
   "metadata": {},
   "source": [
    "### 如果沒有想法，可以先嘗試找出剛剛例子中提到的問題的答案\n",
    "#### 資料的 row 數以及 column 數"
   ]
  },
  {
   "cell_type": "code",
   "execution_count": 14,
   "metadata": {},
   "outputs": [
    {
     "name": "stdout",
     "output_type": "stream",
     "text": [
      "<class 'pandas.core.frame.DataFrame'>\n",
      "RangeIndex: 307511 entries, 0 to 307510\n",
      "Columns: 122 entries, SK_ID_CURR to AMT_REQ_CREDIT_BUREAU_YEAR\n",
      "dtypes: float64(65), int64(41), object(16)\n",
      "memory usage: 286.2+ MB\n",
      "---------------------------------\n",
      "Number of columns =  122\n",
      "Number of rows =  307511\n"
     ]
    }
   ],
   "source": [
    "#初始化資料及基本資訊\n",
    "DF_src = DataFrame(app_train)\n",
    "DF_src.info()\n",
    "#取出rows, columns的尺寸存入變數\n",
    "(DF_rows, DF_columns) = DF_src.shape\n",
    "print('---------------------------------')\n",
    "print('Number of columns = ', DF_columns)\n",
    "print('Number of rows = ', DF_rows)"
   ]
  },
  {
   "cell_type": "markdown",
   "metadata": {},
   "source": [
    "#### 列出所有欄位"
   ]
  },
  {
   "cell_type": "code",
   "execution_count": 16,
   "metadata": {},
   "outputs": [
    {
     "name": "stdout",
     "output_type": "stream",
     "text": [
      "columns =  Index(['SK_ID_CURR', 'TARGET', 'NAME_CONTRACT_TYPE', 'CODE_GENDER',\n",
      "       'FLAG_OWN_CAR', 'FLAG_OWN_REALTY', 'CNT_CHILDREN', 'AMT_INCOME_TOTAL',\n",
      "       'AMT_CREDIT', 'AMT_ANNUITY',\n",
      "       ...\n",
      "       'FLAG_DOCUMENT_18', 'FLAG_DOCUMENT_19', 'FLAG_DOCUMENT_20',\n",
      "       'FLAG_DOCUMENT_21', 'AMT_REQ_CREDIT_BUREAU_HOUR',\n",
      "       'AMT_REQ_CREDIT_BUREAU_DAY', 'AMT_REQ_CREDIT_BUREAU_WEEK',\n",
      "       'AMT_REQ_CREDIT_BUREAU_MON', 'AMT_REQ_CREDIT_BUREAU_QRT',\n",
      "       'AMT_REQ_CREDIT_BUREAU_YEAR'],\n",
      "      dtype='object', length=122)\n",
      "rows =  RangeIndex(start=0, stop=307511, step=1)\n"
     ]
    }
   ],
   "source": [
    "(rows, cols) = DF_src.axes\n",
    "print('columns = ', cols)\n",
    "print('rows = ', rows)"
   ]
  },
  {
   "cell_type": "markdown",
   "metadata": {},
   "source": [
    "#### 截取部分資料"
   ]
  },
  {
   "cell_type": "code",
   "execution_count": null,
   "metadata": {},
   "outputs": [],
   "source": [
    "# 取出col = AMT_CREDIT 的資料\n",
    "Sample_DF = DF_src.loc[0:5, 'AMT_CREDIT']\n",
    "print(Sample_DF)"
   ]
  },
  {
   "cell_type": "code",
   "execution_count": 34,
   "metadata": {},
   "outputs": [
    {
     "name": "stdout",
     "output_type": "stream",
     "text": [
      "   AMT_CREDIT  SK_ID_CURR\n",
      "0    406597.5      100002\n",
      "1   1293502.5      100003\n",
      "2    135000.0      100004\n",
      "3    312682.5      100006\n",
      "4    513000.0      100007\n",
      "5    490495.5      100008\n"
     ]
    }
   ],
   "source": [
    "#取出cols = AMT_CREDIT, SK_ID_CURR的資料\n",
    "Samples_DF = DF_src.loc[0:5, ['AMT_CREDIT', 'SK_ID_CURR']]\n",
    "print(Samples_DF)"
   ]
  },
  {
   "cell_type": "code",
   "execution_count": 35,
   "metadata": {},
   "outputs": [
    {
     "name": "stdout",
     "output_type": "stream",
     "text": [
      "    SK_ID_CURR  TARGET NAME_CONTRACT_TYPE CODE_GENDER FLAG_OWN_CAR\n",
      "50      100058       0    Revolving loans           F            N\n"
     ]
    }
   ],
   "source": [
    "#取出指定row = 50的資料\n",
    "Samples_DF = DF_src.iloc[ [50], 0:5] #由於此資料集index為數字，無法像前面一樣使用DF_src.loc[]取得指定row\n",
    "print(Samples_DF)"
   ]
  },
  {
   "cell_type": "code",
   "execution_count": 32,
   "metadata": {},
   "outputs": [
    {
     "name": "stdout",
     "output_type": "stream",
     "text": [
      "    SK_ID_CURR CODE_GENDER FLAG_OWN_REALTY\n",
      "0       100002           M               Y\n",
      "50      100058           F               Y\n"
     ]
    }
   ],
   "source": [
    "#取出指定rows & cols的資料\n",
    "Samples_DF = DF_src.iloc[[0, 50], [0, 3, 5]] #由於此資料集index為數字，無法像前面一樣使用DF_src.loc[]取得指定row\n",
    "print(Samples_DF)"
   ]
  },
  {
   "cell_type": "markdown",
   "metadata": {},
   "source": [
    "#### 還有各種數之不盡的資料操作，重點還是取決於實務中遇到的狀況和你想問的問題，在馬拉松中我們也會陸續提到更多例子"
   ]
  },
  {
   "cell_type": "code",
   "execution_count": null,
   "metadata": {
    "collapsed": true
   },
   "outputs": [],
   "source": []
  }
 ],
 "metadata": {
  "kernelspec": {
   "display_name": "Python 3",
   "language": "python",
   "name": "python3"
  },
  "language_info": {
   "codemirror_mode": {
    "name": "ipython",
    "version": 3
   },
   "file_extension": ".py",
   "mimetype": "text/x-python",
   "name": "python",
   "nbconvert_exporter": "python",
   "pygments_lexer": "ipython3",
   "version": "3.7.3"
  }
 },
 "nbformat": 4,
 "nbformat_minor": 2
}
