{
 "cells": [
  {
   "cell_type": "markdown",
   "metadata": {},
   "source": [
    "## [作業目標]\n",
    "了解機器學習適合應用的領域與範疇。"
   ]
  },
  {
   "cell_type": "markdown",
   "metadata": {},
   "source": [
    "## [作業重點]\n",
    "透過瞭解機器學習的運作方式，找出非常適用機器學習應用的領域及其原因"
   ]
  },
  {
   "cell_type": "markdown",
   "metadata": {},
   "source": [
    "## 作業\n",
    "請找出一個你認為機器學習可以發光發熱的領域並闡述原因? "
   ]
  },
  {
   "cell_type": "markdown",
   "metadata": {},
   "source": [
    "我認為可以應用在環境惡劣或具有高危險性的工作，如輻射、噪音、氣味甚至高空；以目前的進展及應用，用於垃圾分類應會有相當大的改善，主因為現有的垃圾分類機制其實並不完善，有很大的原因是處理的人力不足，導致分類不確實及影響環境，若能善用機器學習的分類能力，使這類重複性高的工作能由自動化設備處理，定能提升垃圾處理的品質及減少對環境的傷害。"
   ]
  }
 ],
 "metadata": {
  "kernelspec": {
   "display_name": "Python 3",
   "language": "python",
   "name": "python3"
  },
  "language_info": {
   "codemirror_mode": {
    "name": "ipython",
    "version": 3
   },
   "file_extension": ".py",
   "mimetype": "text/x-python",
   "name": "python",
   "nbconvert_exporter": "python",
   "pygments_lexer": "ipython3",
   "version": "3.7.3"
  }
 },
 "nbformat": 4,
 "nbformat_minor": 2
}
